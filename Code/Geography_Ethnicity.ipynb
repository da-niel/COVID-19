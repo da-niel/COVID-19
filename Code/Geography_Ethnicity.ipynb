{
 "cells": [
  {
   "cell_type": "code",
   "execution_count": 1,
   "metadata": {},
   "outputs": [
    {
     "ename": "ModuleNotFoundError",
     "evalue": "No module named 'adjustText'",
     "output_type": "error",
     "traceback": [
      "\u001b[0;31m---------------------------------------------------------------------------\u001b[0m",
      "\u001b[0;31mModuleNotFoundError\u001b[0m                       Traceback (most recent call last)",
      "\u001b[0;32m<ipython-input-1-e226e97e592d>\u001b[0m in \u001b[0;36m<module>\u001b[0;34m\u001b[0m\n\u001b[1;32m      3\u001b[0m \u001b[0;32mimport\u001b[0m \u001b[0mmatplotlib\u001b[0m\u001b[0;34m.\u001b[0m\u001b[0mpyplot\u001b[0m \u001b[0;32mas\u001b[0m \u001b[0mplt\u001b[0m\u001b[0;34m\u001b[0m\u001b[0;34m\u001b[0m\u001b[0m\n\u001b[1;32m      4\u001b[0m \u001b[0;32mfrom\u001b[0m \u001b[0mmatplotlib\u001b[0m\u001b[0;34m.\u001b[0m\u001b[0mpyplot\u001b[0m \u001b[0;32mimport\u001b[0m \u001b[0mfigure\u001b[0m\u001b[0;34m\u001b[0m\u001b[0;34m\u001b[0m\u001b[0m\n\u001b[0;32m----> 5\u001b[0;31m \u001b[0;32mimport\u001b[0m \u001b[0madjustText\u001b[0m \u001b[0;32mas\u001b[0m \u001b[0maT\u001b[0m\u001b[0;34m\u001b[0m\u001b[0;34m\u001b[0m\u001b[0m\n\u001b[0m\u001b[1;32m      6\u001b[0m \u001b[0;32mimport\u001b[0m \u001b[0mgeopandas\u001b[0m \u001b[0;32mas\u001b[0m \u001b[0mgpd\u001b[0m\u001b[0;34m\u001b[0m\u001b[0;34m\u001b[0m\u001b[0m\n\u001b[1;32m      7\u001b[0m \u001b[0mget_ipython\u001b[0m\u001b[0;34m(\u001b[0m\u001b[0;34m)\u001b[0m\u001b[0;34m.\u001b[0m\u001b[0mrun_line_magic\u001b[0m\u001b[0;34m(\u001b[0m\u001b[0;34m'matplotlib'\u001b[0m\u001b[0;34m,\u001b[0m \u001b[0;34m'inline'\u001b[0m\u001b[0;34m)\u001b[0m\u001b[0;34m\u001b[0m\u001b[0;34m\u001b[0m\u001b[0m\n",
      "\u001b[0;31mModuleNotFoundError\u001b[0m: No module named 'adjustText'"
     ]
    }
   ],
   "source": [
    "import pandas as pd\n",
    "import numpy as np\n",
    "import matplotlib.pyplot as plt\n",
    "from matplotlib.pyplot import figure\n",
    "import adjustText as aT\n",
    "import geopandas as gpd\n",
    "%matplotlib inline"
   ]
  },
  {
   "cell_type": "markdown",
   "metadata": {},
   "source": [
    "# Creation of Choropleths"
   ]
  },
  {
   "cell_type": "code",
   "execution_count": 4,
   "metadata": {},
   "outputs": [],
   "source": [
    "df = pd.read_csv(\"statewide_cases.csv\")"
   ]
  },
  {
   "cell_type": "code",
   "execution_count": 5,
   "metadata": {},
   "outputs": [
    {
     "data": {
      "text/plain": [
       "(7325, 6)"
      ]
     },
     "execution_count": 5,
     "metadata": {},
     "output_type": "execute_result"
    }
   ],
   "source": [
    "# Sanity checks\n",
    "df.shape"
   ]
  },
  {
   "cell_type": "code",
   "execution_count": 5,
   "metadata": {},
   "outputs": [
    {
     "data": {
      "text/plain": [
       "60"
      ]
     },
     "execution_count": 5,
     "metadata": {},
     "output_type": "execute_result"
    }
   ],
   "source": [
    "df['county'].nunique()"
   ]
  },
  {
   "cell_type": "code",
   "execution_count": 11,
   "metadata": {},
   "outputs": [
    {
     "data": {
      "text/plain": [
       "['county',\n",
       " 'totalcountconfirmed',\n",
       " 'totalcountdeaths',\n",
       " 'newcountconfirmed',\n",
       " 'newcountdeaths',\n",
       " 'date']"
      ]
     },
     "execution_count": 11,
     "metadata": {},
     "output_type": "execute_result"
    }
   ],
   "source": [
    "[col for col in df.columns]"
   ]
  },
  {
   "cell_type": "code",
   "execution_count": 6,
   "metadata": {},
   "outputs": [
    {
     "data": {
      "text/plain": [
       "county                  object\n",
       "totalcountconfirmed    float64\n",
       "totalcountdeaths       float64\n",
       "newcountconfirmed        int64\n",
       "newcountdeaths           int64\n",
       "date                    object\n",
       "dtype: object"
      ]
     },
     "execution_count": 6,
     "metadata": {},
     "output_type": "execute_result"
    }
   ],
   "source": [
    "df.dtypes"
   ]
  },
  {
   "cell_type": "code",
   "execution_count": 8,
   "metadata": {},
   "outputs": [
    {
     "data": {
      "text/html": [
       "<div>\n",
       "<style scoped>\n",
       "    .dataframe tbody tr th:only-of-type {\n",
       "        vertical-align: middle;\n",
       "    }\n",
       "\n",
       "    .dataframe tbody tr th {\n",
       "        vertical-align: top;\n",
       "    }\n",
       "\n",
       "    .dataframe thead th {\n",
       "        text-align: right;\n",
       "    }\n",
       "</style>\n",
       "<table border=\"1\" class=\"dataframe\">\n",
       "  <thead>\n",
       "    <tr style=\"text-align: right;\">\n",
       "      <th></th>\n",
       "      <th>totalcountconfirmed</th>\n",
       "      <th>totalcountdeaths</th>\n",
       "      <th>newcountconfirmed</th>\n",
       "      <th>newcountdeaths</th>\n",
       "    </tr>\n",
       "  </thead>\n",
       "  <tbody>\n",
       "    <tr>\n",
       "      <td>count</td>\n",
       "      <td>7322.00</td>\n",
       "      <td>7323.00</td>\n",
       "      <td>7325.00</td>\n",
       "      <td>7325.00</td>\n",
       "    </tr>\n",
       "    <tr>\n",
       "      <td>mean</td>\n",
       "      <td>1890.69</td>\n",
       "      <td>56.08</td>\n",
       "      <td>52.52</td>\n",
       "      <td>1.05</td>\n",
       "    </tr>\n",
       "    <tr>\n",
       "      <td>std</td>\n",
       "      <td>8818.98</td>\n",
       "      <td>294.12</td>\n",
       "      <td>217.21</td>\n",
       "      <td>5.23</td>\n",
       "    </tr>\n",
       "    <tr>\n",
       "      <td>min</td>\n",
       "      <td>0.00</td>\n",
       "      <td>0.00</td>\n",
       "      <td>-51.00</td>\n",
       "      <td>-3.00</td>\n",
       "    </tr>\n",
       "    <tr>\n",
       "      <td>25%</td>\n",
       "      <td>9.00</td>\n",
       "      <td>0.00</td>\n",
       "      <td>0.00</td>\n",
       "      <td>0.00</td>\n",
       "    </tr>\n",
       "    <tr>\n",
       "      <td>50%</td>\n",
       "      <td>82.50</td>\n",
       "      <td>2.00</td>\n",
       "      <td>2.00</td>\n",
       "      <td>0.00</td>\n",
       "    </tr>\n",
       "    <tr>\n",
       "      <td>75%</td>\n",
       "      <td>860.75</td>\n",
       "      <td>19.00</td>\n",
       "      <td>24.00</td>\n",
       "      <td>0.00</td>\n",
       "    </tr>\n",
       "    <tr>\n",
       "      <td>max</td>\n",
       "      <td>153265.00</td>\n",
       "      <td>4084.00</td>\n",
       "      <td>4416.00</td>\n",
       "      <td>81.00</td>\n",
       "    </tr>\n",
       "  </tbody>\n",
       "</table>\n",
       "</div>"
      ],
      "text/plain": [
       "       totalcountconfirmed  totalcountdeaths  newcountconfirmed  \\\n",
       "count              7322.00           7323.00            7325.00   \n",
       "mean               1890.69             56.08              52.52   \n",
       "std                8818.98            294.12             217.21   \n",
       "min                   0.00              0.00             -51.00   \n",
       "25%                   9.00              0.00               0.00   \n",
       "50%                  82.50              2.00               2.00   \n",
       "75%                 860.75             19.00              24.00   \n",
       "max              153265.00           4084.00            4416.00   \n",
       "\n",
       "       newcountdeaths  \n",
       "count         7325.00  \n",
       "mean             1.05  \n",
       "std              5.23  \n",
       "min             -3.00  \n",
       "25%              0.00  \n",
       "50%              0.00  \n",
       "75%              0.00  \n",
       "max             81.00  "
      ]
     },
     "execution_count": 8,
     "metadata": {},
     "output_type": "execute_result"
    }
   ],
   "source": [
    "round(df.describe(), 2)"
   ]
  },
  {
   "cell_type": "code",
   "execution_count": 10,
   "metadata": {},
   "outputs": [
    {
     "data": {
      "text/plain": [
       "county                 127\n",
       "totalcountconfirmed    127\n",
       "totalcountdeaths       127\n",
       "newcountconfirmed      127\n",
       "newcountdeaths         127\n",
       "date                   127\n",
       "dtype: int64"
      ]
     },
     "execution_count": 10,
     "metadata": {},
     "output_type": "execute_result"
    }
   ],
   "source": [
    "df[df['newcountconfirmed'] < 0].count()"
   ]
  },
  {
   "cell_type": "code",
   "execution_count": 11,
   "metadata": {},
   "outputs": [
    {
     "data": {
      "text/plain": [
       "county                 21\n",
       "totalcountconfirmed    21\n",
       "totalcountdeaths       21\n",
       "newcountconfirmed      21\n",
       "newcountdeaths         21\n",
       "date                   21\n",
       "dtype: int64"
      ]
     },
     "execution_count": 11,
     "metadata": {},
     "output_type": "execute_result"
    }
   ],
   "source": [
    "df[df['newcountdeaths'] < 0].count()"
   ]
  },
  {
   "cell_type": "code",
   "execution_count": 19,
   "metadata": {},
   "outputs": [],
   "source": [
    "df_county = df.groupby('county').nunique()"
   ]
  },
  {
   "cell_type": "code",
   "execution_count": null,
   "metadata": {},
   "outputs": [],
   "source": [
    "# Remove unassigned and out of county values\n",
    "df = df[df[\"county\"] != 'Unassigned']\n",
    "df = df[df[\"county\"] != 'Out Of Country']"
   ]
  },
  {
   "cell_type": "code",
   "execution_count": null,
   "metadata": {},
   "outputs": [],
   "source": [
    "# Import Geography dataset\n",
    "fp = \"CA_Counties/CA_Counties_TIGER2016.shp\"\n",
    "map_df = gpd.read_file(fp)\n",
    "map_df.head()\n",
    "\n",
    "# Merge with original dataset\n",
    "merged = map_df.merge(df, how = 'left', left_on='NAME', right_on='county')\n",
    "\n",
    "# Select only desired variables\n",
    "merged2 = merged[['NAME', 'geometry', 'totalcountconfirmed', 'totalcountdeaths', 'newcountconfirmed', 'newcountdeaths', 'date']]"
   ]
  },
  {
   "cell_type": "code",
   "execution_count": null,
   "metadata": {},
   "outputs": [],
   "source": [
    "# Add County population data\n",
    "county_pop = pd.read_csv('california_county_pop.csv')\n",
    "\n",
    "# Drop growth rate column\n",
    "county_pop.drop('GrowthRate', axis=1, inplace=True)\n",
    "\n",
    "# Remove suffix from county names so can merge with DF\n",
    "county_pop['CTYNAME'].replace(' County', '', regex=True, inplace=True)"
   ]
  },
  {
   "cell_type": "code",
   "execution_count": null,
   "metadata": {},
   "outputs": [],
   "source": [
    "# Create new master DF with geography and county populations\n",
    "merged3 = merged2.merge(county_pop, how = 'left', left_on='NAME', right_on='CTYNAME')\n",
    "\n",
    "# Drop extraneous name variable\n",
    "merged3.drop(['CTYNAME'], axis=1, inplace=True)"
   ]
  },
  {
   "cell_type": "code",
   "execution_count": null,
   "metadata": {},
   "outputs": [],
   "source": [
    "# Replace negative values with 0\n",
    "merged3[merged3['newcountdeaths'] <0] = 0\n",
    "merged3[merged3['newcountconfirmed'] <0] = 0"
   ]
  },
  {
   "cell_type": "code",
   "execution_count": null,
   "metadata": {},
   "outputs": [],
   "source": [
    "# Calculate incidence/prevalence/mortality\n",
    "merged3['incidence_rate'] = merged3['newcountconfirmed']/merged3['pop2018']\n",
    "merged3['mortality_rate'] = merged3['newcountdeaths']/merged3['pop2018']\n",
    "merged3['prevalence'] = merged3['totalcountconfirmed']/merged3['pop2018']"
   ]
  },
  {
   "cell_type": "code",
   "execution_count": null,
   "metadata": {},
   "outputs": [],
   "source": [
    "# Split dataset into 4 months\n",
    "month_1 = merged3[(merged4['date'] >= pd.to_datetime('2020-03-18')) & (merged3['date'] < pd.to_datetime('2020-04-18'))]\n",
    "month_2 = merged3[(merged4['date'] >= pd.to_datetime('2020-04-18')) & (merged3['date'] < pd.to_datetime('2020-05-18'))]\n",
    "month_3 = merged3[(merged4['date'] >= pd.to_datetime('2020-05-18')) & (merged3['date'] < pd.to_datetime('2020-06-18'))]\n",
    "month_4 = merged3[(merged4['date'] >= pd.to_datetime('2020-06-18')) & (merged3['date'] < pd.to_datetime('2020-07-18'))]                "
   ]
  },
  {
   "cell_type": "code",
   "execution_count": null,
   "metadata": {},
   "outputs": [],
   "source": [
    "# Groupby county name and calculate mean\n",
    "month_1_grp = month_1.groupby('NAME').mean()\n",
    "month_2_grp = month_2.groupby('NAME').mean()\n",
    "month_3_grp = month_3.groupby('NAME').mean()\n",
    "month_4_grp = month_4.groupby('NAME').mean()\n",
    "\n",
    "# Reset county indices\n",
    "month_1_grp.reset_index()\n",
    "month_2_grp.reset_index()\n",
    "month_3_grp.reset_index()\n",
    "month_4_grp.reset_index()\n",
    "\n",
    "# Replace lost geometry column\n",
    "month_1_grp = map_df.merge(month_1_grp, how = 'left', left_on='NAME', right_on='NAME')\n",
    "month_2_grp = map_df.merge(month_2_grp, how = 'left', left_on='NAME', right_on='NAME')\n",
    "month_3_grp = map_df.merge(month_3_grp, how = 'left', left_on='NAME', right_on='NAME')\n",
    "month_4_grp = map_df.merge(month_4_grp, how = 'left', left_on='NAME', right_on='NAME')\n",
    "\n",
    "# Eliminate unneeded variables\n",
    "month_1_grp = month_1_grp[['NAME', 'geometry', 'newcountconfirmed', 'newcountdeaths', 'totalcountconfirmed', 'newcountdeaths', 'pop2018', 'incidence_rate', 'mortality_rate', 'prevalence']]\n",
    "month_2_grp = month_2_grp[['NAME', 'geometry', 'newcountconfirmed', 'newcountdeaths', 'totalcountconfirmed', 'newcountdeaths', 'pop2018', 'incidence_rate', 'mortality_rate', 'prevalence']]\n",
    "month_3_grp = month_3_grp[['NAME', 'geometry', 'newcountconfirmed', 'newcountdeaths', 'totalcountconfirmed', 'newcountdeaths', 'pop2018', 'incidence_rate', 'mortality_rate', 'prevalence']]\n",
    "month_4_grp = month_4_grp[['NAME', 'geometry', 'newcountconfirmed', 'newcountdeaths', 'totalcountconfirmed', 'newcountdeaths', 'pop2018', 'incidence_rate', 'mortality_rate', 'prevalence']]\n"
   ]
  },
  {
   "cell_type": "code",
   "execution_count": null,
   "metadata": {},
   "outputs": [],
   "source": [
    "# The code to create the choropleths and label them - algorithm labels county if its averaged monthly index in top 1/2 of Statewide average\n",
    "# Month 1 incidence\n",
    "vmin, vmax = min(merged4['incidence_rate']), max(merged4['incidence_rate'])\n",
    "ax = month_1.plot(column='incidence_rate', figsize = (10,10), cmap='Reds', linewidth=1.0, edgecolor='0.7', vmin=vmin, vmax=vmax, legend=True, norm=plt.Normalize(vmin=vmin, vmax=vmax))\n",
    "plt.axis('off')\n",
    "plt.title('Average Incidence', fontsize=17)\n",
    "texts = []\n",
    "\n",
    "for x, y, label, metric in zip(month_1_points.geometry.x, month_1_points.geometry.y, month_1_points['NAME'], month_1_points['incidence_rate']):\n",
    "        if metric >= month_1_grp['incidence_rate'].mean():\n",
    "            texts.append(plt.text(x,y,label,fontsize=8))\n",
    "        else:\n",
    "            pass\n",
    "\n",
    "aT.adjust_text(texts, ax=ax, arrowprops=dict(arrowstyle=\"->\", color='black'))"
   ]
  },
  {
   "cell_type": "code",
   "execution_count": null,
   "metadata": {},
   "outputs": [],
   "source": [
    "# Calculate centroids for labeling tasks\n",
    "month_1_grp['center'] = month_1_grp['geometry'].centroid\n",
    "month_2_grp['center'] = month_2_grp['geometry'].centroid\n",
    "month_3_grp['center'] = month_3_grp['geometry'].centroid\n",
    "month_4_grp['center'] = month_4_grp['geometry'].centroid\n",
    "\n",
    "# Create copies for use by geopandas\n",
    "month_1_points = month_1_grp.copy()\n",
    "month_2_points = month_2_grp.copy()\n",
    "month_3_points = month_3_grp.copy()\n",
    "month_4_points = month_4_grp.copy()\n",
    "\n",
    "# Set geometry\n",
    "month_1_points.set_geometry('center', inplace=True)\n",
    "month_2_points.set_geometry('center', inplace=True)\n",
    "month_3_points.set_geometry('center', inplace=True)\n",
    "month_4_points.set_geometry('center', inplace=True)"
   ]
  },
  {
   "cell_type": "code",
   "execution_count": null,
   "metadata": {},
   "outputs": [],
   "source": []
  },
  {
   "cell_type": "markdown",
   "metadata": {},
   "source": [
    "# Create Ethnicity Analyses"
   ]
  },
  {
   "cell_type": "code",
   "execution_count": null,
   "metadata": {},
   "outputs": [],
   "source": [
    "import seaborn as sns"
   ]
  },
  {
   "cell_type": "code",
   "execution_count": null,
   "metadata": {},
   "outputs": [],
   "source": [
    "# Import dataset and perform sanity checks\n",
    "ethnicity = pd.read_csv('case_demographics_ethnicity.csv')"
   ]
  },
  {
   "cell_type": "code",
   "execution_count": null,
   "metadata": {},
   "outputs": [],
   "source": [
    "ethnicity.shape"
   ]
  },
  {
   "cell_type": "code",
   "execution_count": null,
   "metadata": {},
   "outputs": [],
   "source": [
    "[col for col in ethnicity.columns]"
   ]
  },
  {
   "cell_type": "code",
   "execution_count": null,
   "metadata": {},
   "outputs": [],
   "source": [
    "ethnicity.dtypes"
   ]
  },
  {
   "cell_type": "code",
   "execution_count": null,
   "metadata": {},
   "outputs": [],
   "source": [
    "round(ethnicity.describe(), 2)"
   ]
  },
  {
   "cell_type": "code",
   "execution_count": null,
   "metadata": {},
   "outputs": [],
   "source": [
    "print(ethnicity.race_ethnicity.unique())\n",
    "print(ethnicity.race_ethnicity.isna().sum())"
   ]
  },
  {
   "cell_type": "code",
   "execution_count": null,
   "metadata": {},
   "outputs": [],
   "source": [
    "# Replace repeated races\n",
    "ethnicity.race_ethnicity.replace(['Multi-Race', 'Native Hawaiian and other Pacific Islander'], ['Multiracial', 'Native Hawaiian or Pacific Islander'], inplace=True)"
   ]
  },
  {
   "cell_type": "code",
   "execution_count": null,
   "metadata": {},
   "outputs": [],
   "source": [
    "# Eliminate unused ethnic categories\n",
    "ethnicity = ethnicity[ethnicity['race_ethnicity'] != 'Other']\n",
    "ethnicity = ethnicity[ethnicity['race_ethnicity'] != 'American Indian or Alaska Native']\n",
    "ethnicity = ethnicity[ethnicity['race_ethnicity'] != 'Native Hawaiian or Pacific Islander']\n",
    "ethnicity = ethnicity[ethnicity['race_ethnicity'] != 'Multiracial']"
   ]
  },
  {
   "cell_type": "code",
   "execution_count": null,
   "metadata": {},
   "outputs": [],
   "source": [
    "# Prepare data for plotting\n",
    "ethnicities = ['Asian','Black','Latino','White']\n",
    "colors = ['#db5f57','#dbc257','#91db57','#57db80']\n",
    "lines = [15.4, 6.0, 38.9, 36.6]"
   ]
  },
  {
   "cell_type": "code",
   "execution_count": null,
   "metadata": {},
   "outputs": [],
   "source": [
    "# Normalize case percentage\n",
    "def normalize_case_percent(df):\n",
    "    if df['race_ethnicity'].all() == 'Asian':\n",
    "        return df['case_percentage'] - 15.4\n",
    "    if df['race_ethnicity'].all() == 'Black':\n",
    "        return df['case_percentage'] - 6.0\n",
    "    if df['race_ethnicity'].all() == 'Latino':\n",
    "        return df['case_percentage'] - 38.9\n",
    "    if df['race_ethnicity'].all() == 'White':\n",
    "        return df['case_percentage'] - 36.6\n",
    "    \n",
    "# Normalize death percentage\n",
    "def normalize_death_percent(df):\n",
    "    if df['race_ethnicity'].all() == 'Asian':\n",
    "        return df['death_percentage'] - 15.4\n",
    "    if df['race_ethnicity'].all() == 'Black':\n",
    "        return df['death_percentage'] - 6.0\n",
    "    if df['race_ethnicity'].all() == 'Latino':\n",
    "        return df['death_percentage'] - 38.9\n",
    "    if df['race_ethnicity'].all() == 'White':\n",
    "        return df['death_percentage'] - 36.6"
   ]
  },
  {
   "cell_type": "code",
   "execution_count": null,
   "metadata": {},
   "outputs": [],
   "source": [
    "# Example of graphing process using case percentage (same process can be used for death percentage if using that as a variable)\n",
    "case_percent_normalized = ethnicity.groupby('race_ethnicity').apply(normalize_case_percent)\n",
    "\n",
    "ethnicity['case_percent_normalized'] = case_percent_normalized.reset_index(level = 0, drop = True)\n",
    "\n",
    "plt.clf()\n",
    "fig = plt.figure()\n",
    "\n",
    "sns.set_palette(sns.color_palette(\"hls\", 8))\n",
    "fig = plt.figure(figsize = [9,9])\n",
    "ax = sns.lineplot(x = 'date', y = 'case_percent_normalized', hue = 'race_ethnicity', data = ethnicity)\n",
    "ax.axhline(y = 0, c = 'black', alpha=0.6)\n",
    "plt.ylabel('Normalized Case Percentage')\n",
    "plt.xlabel('Date')\n",
    "plt.legend\n",
    "\n",
    "plt.xticks(rotation = 90)\n",
    "\n",
    "every_nth = 4\n",
    "for n, label in enumerate(ax.xaxis.get_ticklabels()):\n",
    "    if n % every_nth != 0:\n",
    "        label.set_visible(False)\n",
    "plt.show()"
   ]
  }
 ],
 "metadata": {
  "kernelspec": {
   "display_name": "Python 3",
   "language": "python",
   "name": "python3"
  },
  "language_info": {
   "codemirror_mode": {
    "name": "ipython",
    "version": 3
   },
   "file_extension": ".py",
   "mimetype": "text/x-python",
   "name": "python",
   "nbconvert_exporter": "python",
   "pygments_lexer": "ipython3",
   "version": "3.7.4"
  }
 },
 "nbformat": 4,
 "nbformat_minor": 4
}
